{
 "cells": [
  {
   "cell_type": "code",
   "execution_count": null,
   "metadata": {},
   "outputs": [],
   "source": [
    "import os\n",
    "import sys\n",
    "from pathlib import Path\n",
    "\n",
    "# 修改当前目录到上层目录，方便跨不同IDE中使用, Notebook不支持__file__\n",
    "pwd = os.environ.get('pwd'.upper(), './')\n",
    "os.chdir(pwd)\n",
    "sys.path.append(pwd)\n",
    "\n",
    "# \n",
    "FEATURE_PATH = os.environ.get('FEATURE_PATH'.upper(), 'data/data.parquet')\n",
    "factors = os.environ.get('factors'.upper(), '[\"SMA_010\",]')\n",
    "factors = eval(factors)\n",
    "fwd_ret_1 = os.environ.get('fwd_ret_1'.upper(), 'RETURN_OO_1')\n",
    "forward_return = os.environ.get('forward_return'.upper(), 'RETURN_OO_5')\n",
    "period = os.environ.get('period'.upper(), '5')\n",
    "period = int(period)\n",
    "\n",
    "axvlines = ('2023-01-01',)\n",
    "\n",
    "#\n",
    "from IPython.display import HTML\n",
    "import polars as pl\n",
    "\n",
    "from alphainspect.reports import create_1x3_sheet\n",
    "from alphainspect.utils import with_factor_quantile\n",
    "\n",
    "df = pl.read_parquet(FEATURE_PATH)\n",
    "\n",
    "for factor in factors:\n",
    "    df = with_factor_quantile(df, factor, quantiles=10, factor_quantile=f'_fq_{factor}')\n",
    "\n",
    "for factor in factors:\n",
    "    create_1x3_sheet(df, factor, forward_return, fwd_ret_1, period=period, factor_quantile=f'_fq_{factor}', figsize=(12, 4), axvlines=axvlines)\n",
    "    display(HTML('<hr/>'))"
   ]
  },
  {
   "cell_type": "code",
   "execution_count": null,
   "metadata": {},
   "outputs": [],
   "source": [
    "# df.tail() # 这个打印后转html会比较慢，所以屏蔽"
   ]
  },
  {
   "cell_type": "code",
   "execution_count": null,
   "metadata": {},
   "outputs": [],
   "source": [
    "print(os.getcwd())\n",
    "print(FEATURE_PATH, factor, fwd_ret_1, forward_return, period)\n",
    "print('1去极值标准化/2市值中性化/3行业中性化/4行业市值中性化')"
   ]
  }
 ],
 "metadata": {
  "kernelspec": {
   "display_name": "py311_1",
   "language": "python",
   "name": "python3"
  },
  "language_info": {
   "codemirror_mode": {
    "name": "ipython",
    "version": 3
   },
   "file_extension": ".py",
   "mimetype": "text/x-python",
   "name": "python",
   "nbconvert_exporter": "python",
   "pygments_lexer": "ipython3",
   "version": "3.11.3"
  }
 },
 "nbformat": 4,
 "nbformat_minor": 2
}
