{
 "cells": [
  {
   "cell_type": "code",
   "execution_count": null,
   "metadata": {},
   "outputs": [],
   "source": [
    "import os\n",
    "import sys\n",
    "from pathlib import Path\n",
    "\n",
    "# 修改当前目录到上层目录，方便跨不同IDE中使用, Notebook不支持__file__\n",
    "pwd = os.environ.get('pwd'.upper(), './')\n",
    "os.chdir(pwd)\n",
    "sys.path.append(pwd)\n",
    "os.getcwd()"
   ]
  },
  {
   "cell_type": "code",
   "execution_count": null,
   "metadata": {},
   "outputs": [],
   "source": [
    "import polars as pl\n",
    "from research.output import main\n",
    "\n",
    "df = pl.read_parquet('data/data.parquet')\n",
    "df = main(df)\n",
    "\n",
    "df.tail()"
   ]
  },
  {
   "cell_type": "code",
   "execution_count": null,
   "metadata": {},
   "outputs": [],
   "source": [
    "factor = os.environ.get('factor'.upper(), 'SMA_010')\n",
    "fwd_ret_1 = os.environ.get('fwd_ret_1'.upper(), 'RETURN_OO_1')\n",
    "forward_return = os.environ.get('forward_return'.upper(), 'RETURN_OO_5')\n",
    "period = os.environ.get('period'.upper(), '5')\n",
    "period = int(period)\n",
    "\n",
    "axvlines = ('2020-01-01',)\n",
    "\n",
    "factor, fwd_ret_1, forward_return, period"
   ]
  },
  {
   "cell_type": "code",
   "execution_count": null,
   "metadata": {},
   "outputs": [],
   "source": [
    "import polars as pl\n",
    "\n",
    "from alphainspect.reports import create_3x2_sheet\n",
    "from alphainspect.utils import with_factor_quantile\n",
    "from alphainspect.ic import plot_ic_hist"
   ]
  },
  {
   "cell_type": "code",
   "execution_count": null,
   "metadata": {},
   "outputs": [],
   "source": [
    "# 画ic的直方图函数，也可以用来画普通数值\n",
    "plot_ic_hist(df, factor)"
   ]
  },
  {
   "cell_type": "code",
   "execution_count": null,
   "metadata": {},
   "outputs": [],
   "source": [
    "df = with_factor_quantile(df, factor, quantiles=10)"
   ]
  },
  {
   "cell_type": "code",
   "execution_count": null,
   "metadata": {},
   "outputs": [],
   "source": [
    "create_3x2_sheet(df, factor, forward_return, fwd_ret_1, period=period, axvlines=axvlines)"
   ]
  }
 ],
 "metadata": {
  "kernelspec": {
   "display_name": "py311_1",
   "language": "python",
   "name": "python3"
  },
  "language_info": {
   "codemirror_mode": {
    "name": "ipython",
    "version": 3
   },
   "file_extension": ".py",
   "mimetype": "text/x-python",
   "name": "python",
   "nbconvert_exporter": "python",
   "pygments_lexer": "ipython3",
   "version": "3.11.3"
  }
 },
 "nbformat": 4,
 "nbformat_minor": 2
}
